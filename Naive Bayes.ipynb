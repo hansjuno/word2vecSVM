{
 "cells": [
  {
   "cell_type": "code",
   "execution_count": 1,
   "metadata": {},
   "outputs": [],
   "source": [
    "import numpy as np\n",
    "import json\n",
    "import pandas as pd\n",
    "from pandas.io.json import json_normalize\n",
    "from statistics import mean\n",
    "from mae import count_mae\n",
    "\n",
    "from sklearn import svm\n",
    "from sklearn.feature_extraction.text import TfidfVectorizer\n",
    "from sklearn.naive_bayes import MultinomialNB\n",
    "from sklearn.naive_bayes import GaussianNB\n",
    "from sklearn.metrics import classification_report\n",
    "from sklearn.metrics import accuracy_score\n",
    "from sklearn.metrics import mean_absolute_error\n",
    "from sklearn.model_selection import train_test_split\n",
    "from sklearn.model_selection import KFold\n",
    "from sklearn.metrics import precision_recall_fscore_support\n",
    "from sklearn.metrics import confusion_matrix\n",
    "\n",
    "import sys\n",
    "import os\n",
    "import time\n",
    "\n",
    "from preprocessing import cleansing\n",
    "from preprocessing import plot_confusion_matrix"
   ]
  },
  {
   "cell_type": "code",
   "execution_count": 2,
   "metadata": {},
   "outputs": [],
   "source": [
    "# Read the data\n",
    "with open('../Data Set/sentimen_own_full_repaired.json','r',encoding='utf-8') as json_data:\n",
    "    tweet = json.load(json_data)\n",
    "\n",
    "# Convert to dataframe\n",
    "df = pd.io.json.json_normalize(data=tweet, record_path=['RECORDS'])\n",
    "# Convert to matrix\n",
    "data = df.as_matrix()"
   ]
  },
  {
   "cell_type": "code",
   "execution_count": 3,
   "metadata": {},
   "outputs": [],
   "source": [
    "# Initiation data train and target\n",
    "X = np.array(data[:,4])\n",
    "y = np.array(data[:,1])\n",
    "kf = KFold(n_splits=10)"
   ]
  },
  {
   "cell_type": "code",
   "execution_count": 4,
   "metadata": {},
   "outputs": [],
   "source": [
    "final_test_labels = []\n",
    "final_prediction = []\n",
    "\n",
    "precision_val = []\n",
    "recall_val = []\n",
    "fscore_val = []"
   ]
  },
  {
   "cell_type": "code",
   "execution_count": 5,
   "metadata": {},
   "outputs": [
    {
     "name": "stderr",
     "output_type": "stream",
     "text": [
      "C:\\Users\\podvertible19960504\\Anaconda3\\envs\\analisis_sentimen\\lib\\site-packages\\sklearn\\metrics\\classification.py:1135: UndefinedMetricWarning: Precision and F-score are ill-defined and being set to 0.0 in labels with no predicted samples.\n",
      "  'precision', 'predicted', average, warn_for)\n"
     ]
    },
    {
     "name": "stdout",
     "output_type": "stream",
     "text": [
      "(0.35893323996265175, 0.3834991391152467, 0.3681133599550036, None)\n",
      "(0.3578112226119602, 0.393714269920578, 0.3661678659357259, None)\n",
      "(0.3165891836784742, 0.3491542901115814, 0.2904661246612466, None)\n",
      "(0.36991542312034975, 0.3472058873330903, 0.33673957886422334, None)\n",
      "(0.35872172138775554, 0.35142202193900574, 0.3444977432600578, None)\n",
      "(0.36704638928791994, 0.38469070619465145, 0.3719259208689979, None)\n",
      "(0.37353460272094263, 0.36798065040360994, 0.3622632666067923, None)\n",
      "(0.34935857963875205, 0.37026307026307026, 0.3503984859923548, None)\n",
      "(0.33868970918660357, 0.35130603302999663, 0.34091319931432135, None)\n",
      "(0.40410340014278257, 0.3342087085085498, 0.3507936507936508, None)\n"
     ]
    }
   ],
   "source": [
    "for train_index, test_index in kf.split(X):\n",
    "    \n",
    "    X_trainSet, X_testSet = X[train_index], X[test_index]\n",
    "    y_trainSet, y_testSet = y[train_index], y[test_index]\n",
    "    \n",
    "    train_data = []\n",
    "    train_labels = []\n",
    "    test_data = []\n",
    "    test_labels = []\n",
    "    \n",
    "    # Change label train\n",
    "    for i in range(len(X_trainSet)):  \n",
    "        train_data.append(cleansing(X_trainSet[i]))\n",
    "        if int(y_trainSet[i]) == 2:\n",
    "            train_labels.append(2)\n",
    "        elif int(y_trainSet[i]) == 1:\n",
    "            train_labels.append(1)\n",
    "        elif int(y_trainSet[i]) == -2:\n",
    "            train_labels.append(-2)\n",
    "        elif int(y_trainSet[i]) == -1:\n",
    "            train_labels.append(-1)\n",
    "        elif int(y_trainSet[i]) == 0:\n",
    "            train_labels.append(0)\n",
    "            \n",
    "    # Change label test    \n",
    "    for i in range(len(X_testSet)):\n",
    "        test_data.append(cleansing(X_testSet[i]))\n",
    "        if int(y_testSet[i]) == 2:\n",
    "            test_labels.append(2)\n",
    "        elif int(y_testSet[i]) == 1:\n",
    "            test_labels.append(1)\n",
    "        elif int(y_testSet[i]) == -2:\n",
    "            test_labels.append(-2)\n",
    "        elif int(y_testSet[i]) == -1:\n",
    "            test_labels.append(-1)\n",
    "        elif int(y_testSet[i]) == 0:\n",
    "            test_labels.append(0)\n",
    "    \n",
    "    # Convert data to vector\n",
    "    vectorizer = TfidfVectorizer(min_df=5,\n",
    "                             max_df = 0.8,\n",
    "                             sublinear_tf=True,\n",
    "                             use_idf=True)\n",
    "    train_vectors = vectorizer.fit_transform(train_data)\n",
    "    test_vectors = vectorizer.transform(test_data)\n",
    "    \n",
    "    # Start Train\n",
    "    classifier = MultinomialNB().fit(train_vectors, train_labels)\n",
    "    prediction = classifier.predict(test_vectors)\n",
    "    \n",
    "    precision, recall, fscore, Null_Value = precision_recall_fscore_support(test_labels, prediction, average='macro')\n",
    "    print(precision_recall_fscore_support(test_labels, prediction, average='macro'))\n",
    "    \n",
    "    precision_val.append(precision)\n",
    "    recall_val.append(recall)\n",
    "    fscore_val.append(fscore)\n",
    "    \n",
    "    final_test_labels.extend(test_labels)\n",
    "    final_prediction.extend(prediction)"
   ]
  },
  {
   "cell_type": "code",
   "execution_count": 13,
   "metadata": {},
   "outputs": [
    {
     "name": "stdout",
     "output_type": "stream",
     "text": [
      "recall  0.363344477681938\n",
      "presisi  0.3594703471738192\n",
      "akurasi  0.6268638015286305\n"
     ]
    },
    {
     "ename": "TypeError",
     "evalue": "count_mae() missing 1 required positional argument: 'self'",
     "output_type": "error",
     "traceback": [
      "\u001b[1;31m---------------------------------------------------------------------------\u001b[0m",
      "\u001b[1;31mTypeError\u001b[0m                                 Traceback (most recent call last)",
      "\u001b[1;32m<ipython-input-13-ca9d7b19e429>\u001b[0m in \u001b[0;36m<module>\u001b[1;34m()\u001b[0m\n\u001b[0;32m      2\u001b[0m \u001b[0mprint\u001b[0m\u001b[1;33m(\u001b[0m\u001b[1;34m\"presisi \"\u001b[0m\u001b[1;33m,\u001b[0m \u001b[0mmean\u001b[0m\u001b[1;33m(\u001b[0m\u001b[0mprecision_val\u001b[0m\u001b[1;33m)\u001b[0m\u001b[1;33m)\u001b[0m\u001b[1;33m\u001b[0m\u001b[0m\n\u001b[0;32m      3\u001b[0m \u001b[0mprint\u001b[0m\u001b[1;33m(\u001b[0m\u001b[1;34m\"akurasi \"\u001b[0m\u001b[1;33m,\u001b[0m \u001b[0maccuracy_score\u001b[0m\u001b[1;33m(\u001b[0m\u001b[0mfinal_test_labels\u001b[0m\u001b[1;33m,\u001b[0m \u001b[0mfinal_prediction\u001b[0m\u001b[1;33m)\u001b[0m\u001b[1;33m)\u001b[0m\u001b[1;33m\u001b[0m\u001b[0m\n\u001b[1;32m----> 4\u001b[1;33m \u001b[0mprint\u001b[0m\u001b[1;33m(\u001b[0m\u001b[1;34m\"mae\"\u001b[0m\u001b[1;33m,\u001b[0m \u001b[0mcount_mae\u001b[0m\u001b[1;33m(\u001b[0m\u001b[0mactual\u001b[0m\u001b[1;33m=\u001b[0m\u001b[0mfinal_test_labels\u001b[0m\u001b[1;33m,\u001b[0m \u001b[0mpredicted\u001b[0m\u001b[1;33m=\u001b[0m\u001b[0mfinal_prediction\u001b[0m\u001b[1;33m)\u001b[0m\u001b[1;33m)\u001b[0m\u001b[1;33m\u001b[0m\u001b[0m\n\u001b[0m",
      "\u001b[1;31mTypeError\u001b[0m: count_mae() missing 1 required positional argument: 'self'"
     ]
    }
   ],
   "source": [
    "print(\"recall \", mean(recall_val))\n",
    "print(\"presisi \", mean(precision_val))\n",
    "print(\"akurasi \", accuracy_score(final_test_labels, final_prediction))\n",
    "print(\"mae\", count_mae(actual=final_test_labels, predicted=final_prediction))"
   ]
  },
  {
   "cell_type": "code",
   "execution_count": 10,
   "metadata": {},
   "outputs": [
    {
     "name": "stdout",
     "output_type": "stream",
     "text": [
      "Confusion matrix, without normalization\n",
      "[[   0  148   42    9    0]\n",
      " [   0 1308  692  120    0]\n",
      " [   0  515 2859  209    0]\n",
      " [   0  335  684  836    0]\n",
      " [   0   15   50  159    0]]\n"
     ]
    },
    {
     "data": {
      "image/png": "[encoded data removed]",
      "text/plain": [
       "<Figure size 432x288 with 2 Axes>"
      ]
     },
     "metadata": {},
     "output_type": "display_data"
    }
   ],
   "source": [
    "class_names = ['high_positive', 'positive', 'neutral', 'negative', 'high_negative']\n",
    "cm = confusion_matrix(final_test_labels, final_prediction)\n",
    "plot_confusion_matrix(cm, classes=class_names,\n",
    "                      title='Confusion matrix, Naive Bayes')"
   ]
  },
  {
   "cell_type": "code",
   "execution_count": null,
   "metadata": {},
   "outputs": [],
   "source": []
  }
 ],
 "metadata": {
  "kernelspec": {
   "display_name": "Python 3",
   "language": "python",
   "name": "python3"
  },
  "language_info": {
   "codemirror_mode": {
    "name": "ipython",
    "version": 3
   },
   "file_extension": ".py",
   "mimetype": "text/x-python",
   "name": "python",
   "nbconvert_exporter": "python",
   "pygments_lexer": "ipython3",
   "version": "3.6.5"
  }
 },
 "nbformat": 4,
 "nbformat_minor": 2
}
